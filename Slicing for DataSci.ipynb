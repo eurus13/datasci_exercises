{
 "cells": [
  {
   "cell_type": "code",
   "execution_count": 113,
   "metadata": {},
   "outputs": [],
   "source": [
    "#https://machinelearningmastery.com/index-slice-reshape-numpy-arrays-machine-learning-python/\n",
    "\n",
    "import numpy as np"
   ]
  },
  {
   "cell_type": "code",
   "execution_count": 114,
   "metadata": {},
   "outputs": [
    {
     "name": "stdout",
     "output_type": "stream",
     "text": [
      "[1 2 3 4]\n",
      "<class 'numpy.ndarray'>\n",
      "------------------------------\n",
      "[[11 22]\n",
      " [33 44]\n",
      " [55 66]]\n",
      "<class 'numpy.ndarray'>\n"
     ]
    }
   ],
   "source": [
    "# takes a list / converts to np array / prints np array / prints data type \n",
    "\n",
    "def np_array_gen(lst):\n",
    "    data = array(lst)\n",
    "    print(data)\n",
    "    print(type(data))\n",
    "    return data\n",
    "    \n",
    "    \n",
    "data = [1,2,3,4]\n",
    "\n",
    "data_two = [[11,22],\n",
    "            [33,44],\n",
    "            [55,66]]\n",
    "\n",
    "data = np_array_gen(data)\n",
    "print('-' *30)\n",
    "data_two = np_array_gen(data_two)\n",
    "    \n",
    "    "
   ]
  },
  {
   "cell_type": "code",
   "execution_count": 115,
   "metadata": {},
   "outputs": [],
   "source": [
    "data_three = array([11,22,33,44,55])"
   ]
  },
  {
   "cell_type": "code",
   "execution_count": 116,
   "metadata": {},
   "outputs": [
    {
     "name": "stdout",
     "output_type": "stream",
     "text": [
      "0 11\n",
      "1 22\n",
      "2 33\n",
      "3 44\n",
      "4 55\n"
     ]
    }
   ],
   "source": [
    "#value and index print loop\n",
    "for index,value in enumerate(data_three):\n",
    "    print(index,value)\n",
    "    "
   ]
  },
  {
   "cell_type": "code",
   "execution_count": 117,
   "metadata": {},
   "outputs": [],
   "source": [
    "# while loop to count "
   ]
  },
  {
   "cell_type": "code",
   "execution_count": 118,
   "metadata": {},
   "outputs": [
    {
     "name": "stdout",
     "output_type": "stream",
     "text": [
      "Backwards list print\n",
      "55\n",
      "44\n",
      "33\n",
      "22\n",
      "11\n",
      "Forwards list print\n",
      "11\n",
      "22\n",
      "33\n",
      "44\n",
      "55\n"
     ]
    }
   ],
   "source": [
    "# while loop to count and print backwards and forwards\n",
    "itz = len(data_three) - 1\n",
    "itz2 = 0\n",
    "print('Backwards list print')\n",
    "while itz > -1:\n",
    "    print(data_three[itz])\n",
    "    itz -= 1\n",
    "else:\n",
    "    print('Forwards list print')\n",
    "    while itz2 < 5:\n",
    "        print(data_three[itz2])\n",
    "        itz2 += 1"
   ]
  },
  {
   "cell_type": "code",
   "execution_count": 119,
   "metadata": {
    "scrolled": true
   },
   "outputs": [
    {
     "name": "stdout",
     "output_type": "stream",
     "text": [
      "Value:  11 Positive index:  0 negative index:  -5\n",
      "Value:  22 Positive index:  1 negative index:  -4\n",
      "Value:  33 Positive index:  2 negative index:  -3\n",
      "Value:  44 Positive index:  3 negative index:  -2\n",
      "Value:  55 Positive index:  4 negative index:  -1\n",
      "Forwards [11 22 33 44 55]\n",
      "Backwards [55 44 33 22 11]\n"
     ]
    }
   ],
   "source": [
    "#Calling values by their positive and negtative index\n",
    "\n",
    "for i,v in enumerate(data_three):\n",
    "    print(\"Value: \", v, \"Positive index: \",i ,\"negative index: \", i - len(data_three))\n",
    "    \n",
    "print(\"Forwards\",data_three[0:])\n",
    "print(\"Backwards\",data_three[::-1])\n",
    "\n",
    "    "
   ]
  },
  {
   "cell_type": "code",
   "execution_count": null,
   "metadata": {},
   "outputs": [],
   "source": []
  },
  {
   "cell_type": "code",
   "execution_count": 120,
   "metadata": {},
   "outputs": [
    {
     "name": "stdout",
     "output_type": "stream",
     "text": [
      "[11 22]\n",
      "11\n",
      "22\n",
      "11 22\n",
      "[11 22]\n",
      "11 22\n",
      "[33 44]\n",
      "33 44\n",
      "[55 66]\n",
      "55 66\n"
     ]
    }
   ],
   "source": [
    "#2dimensional indexing\n",
    "print(data_two[0])\n",
    "print(data_two[0,0])\n",
    "print(data_two[0,1])\n",
    "print(data_two[0,0],data_two[0,1])\n",
    "\n",
    "for i in data_two:\n",
    "    print(i)\n",
    "    print(i[0],i[1])"
   ]
  },
  {
   "cell_type": "code",
   "execution_count": 121,
   "metadata": {},
   "outputs": [
    {
     "name": "stdout",
     "output_type": "stream",
     "text": [
      "[1 2 3 4]\n",
      "[1 2 3 4]\n",
      "[1]\n",
      "[4]\n"
     ]
    }
   ],
   "source": [
    "#One dimensional slicing\n",
    "\n",
    "#all elements\n",
    "print(data)\n",
    "print(data[:])\n",
    "#1st item\n",
    "print(data[0:1])\n",
    "#last item\n",
    "print(data[-1:])\n"
   ]
  },
  {
   "cell_type": "code",
   "execution_count": 122,
   "metadata": {},
   "outputs": [],
   "source": [
    "#2d slicing"
   ]
  },
  {
   "cell_type": "code",
   "execution_count": 123,
   "metadata": {},
   "outputs": [
    {
     "name": "stdout",
     "output_type": "stream",
     "text": [
      "[[11 22]\n",
      " [33 44]\n",
      " [55 66]]\n",
      "\n",
      "[[11 22  5]\n",
      " [33 44  5]\n",
      " [55 66  5]]\n"
     ]
    }
   ],
   "source": [
    "print(data_two)\n",
    "#added value 5 onto the end of each Y list\n",
    "data_two = np.insert(data_two,2, 5, axis=1)\n",
    "print()\n",
    "print(data_two)"
   ]
  },
  {
   "cell_type": "code",
   "execution_count": 136,
   "metadata": {},
   "outputs": [
    {
     "name": "stdout",
     "output_type": "stream",
     "text": [
      "X [[11 22]\n",
      " [33 44]\n",
      " [55 66]]\n",
      "y [5 5 5]\n"
     ]
    }
   ],
   "source": [
    "X,y = data_two[:,:-1], data_two[:,-1]\n",
    "print(\"X\",X)\n",
    "print('y',y)"
   ]
  },
  {
   "cell_type": "code",
   "execution_count": 151,
   "metadata": {},
   "outputs": [
    {
     "data": {
      "text/plain": [
       "array([[11, 22,  5],\n",
       "       [33, 44,  5]])"
      ]
     },
     "execution_count": 151,
     "metadata": {},
     "output_type": "execute_result"
    }
   ],
   "source": [
    "#Splitting train and test rows\n",
    "train = data_two[:split, :]\n",
    "train"
   ]
  },
  {
   "cell_type": "code",
   "execution_count": 152,
   "metadata": {},
   "outputs": [
    {
     "data": {
      "text/plain": [
       "array([[11, 22,  5],\n",
       "       [33, 44,  5],\n",
       "       [55, 66,  5]])"
      ]
     },
     "execution_count": 152,
     "metadata": {},
     "output_type": "execute_result"
    }
   ],
   "source": [
    "data_two"
   ]
  },
  {
   "cell_type": "code",
   "execution_count": 159,
   "metadata": {},
   "outputs": [
    {
     "data": {
      "text/plain": [
       "array([[55, 66,  5]])"
      ]
     },
     "execution_count": 159,
     "metadata": {},
     "output_type": "execute_result"
    }
   ],
   "source": [
    "test = data_two[split:]\n",
    "test"
   ]
  },
  {
   "cell_type": "code",
   "execution_count": null,
   "metadata": {},
   "outputs": [],
   "source": []
  },
  {
   "cell_type": "code",
   "execution_count": null,
   "metadata": {},
   "outputs": [],
   "source": []
  }
 ],
 "metadata": {
  "kernelspec": {
   "display_name": "Python 3",
   "language": "python",
   "name": "python3"
  },
  "language_info": {
   "codemirror_mode": {
    "name": "ipython",
    "version": 3
   },
   "file_extension": ".py",
   "mimetype": "text/x-python",
   "name": "python",
   "nbconvert_exporter": "python",
   "pygments_lexer": "ipython3",
   "version": "3.7.3"
  }
 },
 "nbformat": 4,
 "nbformat_minor": 2
}
